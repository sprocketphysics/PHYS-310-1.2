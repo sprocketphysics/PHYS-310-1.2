{
 "cells": [
  {
   "cell_type": "markdown",
   "metadata": {},
   "source": [
    "# 1.2 Relativistic equations of motion\n",
    "\n",
    "Watch the video https://www.youtube.com/watch?v=InD54gt1P7M&index=2&list=PLdCdV2GBGyXNSUU4-B4I1QtbF6af6pTIr&t=0s\n",
    "\n",
    "Develop a simulation in the cell below showing a two space craft traveling with a constant acceleration toward alpha-centauri: one subject to classical physics and the other using the relativistic Euler-Cromer method\n",
    "Alpha centauri is 4.367 light years away from us.\n",
    "\n",
    "## Notes on the transition from Glowscript to Jupyter\n",
    "How GlowScript and Jupyter Differ  from Classic VPython\n",
    "\n",
    "* Vectors must be represented as vector(x,y,z) or vec(x,y,z), not as (x,y,z).\n",
    "\n",
    "* The name display has been changed to canvas.\n",
    "\n",
    "* The name gdisplay has been changed to graph."
   ]
  },
  {
   "cell_type": "markdown",
   "metadata": {},
   "source": [
    "## Important computational/theoretical skill: scaling units\n",
    "\n",
    "This is what is meant by \"use units where c=1\".\n",
    "\n",
    "SI units would be very inconvenient here. What is more convenient is scaling to dimensionless quantities, and this is an important skill to develop, for computation or theory. Let's start with the momentum update equation. It is already relativistically correct.\n",
    "$$\\vec{p}_f=\\vec{p}_i+\\vec{F}_{net}\\Delta t$$ can be written as\n",
    "$$\\vec{p}_f c=\\vec{p}_i c+\\vec{F}_{net}c\\Delta t$$\n",
    "\n",
    "Dividing both sides by rest energy we obtain\n",
    "$$\\frac{\\vec{p}_f c}{mc^2}=\\frac{\\vec{p}_i c}{mc^2}+\\frac{\\vec{F}_{net}}{mc^2}c\\Delta t$$\n",
    "\n",
    "Let us define a dimensionless unit of \"momentum\" $$\\overline{p}\\equiv \\frac{\\vec{p} c}{mc^2}$$ and $$\\overline{t}\\equiv \\frac{ct}{1\\,\\text{light year}}$$, then it is natural to define the dimensionless ratio $$\\overline{F}_{net}\\equiv \\frac{\\vec{F}_{net}\\times 1\\,\\text{light year}}{mc^2}$$ (in other words, the amount of work that would be done by a force over a distance of 1 light year, as a percentage of the rest mass). Thus we obtain the dimensionless update equation\n",
    "$$\\overline{p}_f=\\overline{p}_i+\\overline{F}_{net} \\Delta \\overline{t}$$\n",
    "where \\overline{t} is the ratio of time to 1 year (unitless, but you can think of it as \"years\").\n",
    "\n",
    "For the position update equation, we have\n",
    "$$\\vec{r}_f = \\vec{r}_i + \\frac{\\vec{p}_f}{m} \\Delta t$$\n",
    "\n",
    "Let's write this in a more convenient units\n",
    "\n",
    "$$\\vec{r}_f = \\vec{r}_i + \\frac{\\vec{p}_fc}{mc^2} c\\Delta t$$\n",
    "\n",
    "Now this isn't quite right, as $\\vec{p}=\\gamma m\\vec{v}$. As worked out on page 210 in Chabay and Sherwood, we can solve for $\\vec{v}$:\n",
    "$$\\frac{\\vec{v}}{c}=\\frac{\\vec{p}c}{mc^2}\\times \\left(1+\\frac{pc}{mc^2}\\right)^{1/2}$$\n",
    "\n",
    "Thus we need to multiply by a dimensionless \"relativistic factor\" to obtain the proper update equation\n",
    "\n",
    "$$\\vec{r}_f = \\vec{r}_i + \\frac{\\vec{p}_fc}{mc^2} [\\text{factor}] \\Delta t$$\n",
    "\n",
    "We can introduce entirely dimensionless quantities by dividing both sides by 1 light year and re-defining \"length\" in these dimensionless units $$\\overline{r}\\equiv \\frac{\\vec{r}}{1\\,\\text{light year}}$$, $$\\overline{t} \\equiv \\frac{ct}{1\\,\\text{light year}}$$. So $c\\overline{t}=1$ is interpreted as the ratio of distance to 1 light year is 1. This is what is meant by the line c=1, and people often will say \"set c=1, let distance be in light years, let momentum be  ...well something like that\", but this is the more careful way to proceed.\n",
    "\n",
    "\n",
    "$$\\overline{r}_f = \\overline{r}_i + \\overline{p}_f [\\text{factor}] \\Delta \\overline{t}$$"
   ]
  },
  {
   "cell_type": "markdown",
   "metadata": {},
   "source": [
    "## LO 1: implement relativistic and non-relativistic momentum principle and position update equation\n",
    "\n",
    "Complete the code below to show the difference in motion governed by relativity \n",
    "The momentum principle is correct, even including the relativistically-correct momentum principle, and the approximate form appropriate for slower speeds. \n",
    "\n",
    "### Notes on applying what we already know to relativistic speeds\n",
    "$$\\vec{F}_{net}=\\frac{d\\vec{p}}{dt}$$\n",
    "provided we use the correct definition of momentum\n",
    "$$\\vec{p}=\\frac{1}{\\sqrt{1-v^2/c^2}}m\\vec{v}=\"\\gamma\" m\\vec{v}$$. As explained on page 79 of Chabay and Sherwood, we can solve for $v$\n",
    "$$\\vec{v}=\\frac{1}{\\sqrt{1+\\left(\\frac{p_x c}{mc^2}\\right)^2}}\\frac{p_x}{m}.$$\n",
    "\n",
    "This looks a lot like $v\\approx p/m$ with an additional ``relativistic factor''\n",
    "$$\\vec{v}=\\text{``relativistic factor''}\\times \\frac{\\vec{p}}{m},$$ where\n",
    "\n",
    "$$\\text{``relativistic factor''}=\\frac{1}{\\sqrt{1+\\left(\\frac{p_x c}{mc^2}\\right)^2}}.$$ \n",
    "Other than adding this relativistic factor, we can proceed using the Euler-Cromer integration method as usual.\n",
    "\n"
   ]
  },
  {
   "cell_type": "code",
   "execution_count": 1,
   "metadata": {},
   "outputs": [
    {
     "ename": "ModuleNotFoundError",
     "evalue": "No module named 'vpython'",
     "output_type": "error",
     "traceback": [
      "\u001b[1;31m---------------------------------------------------------------------------\u001b[0m",
      "\u001b[1;31mModuleNotFoundError\u001b[0m                       Traceback (most recent call last)",
      "\u001b[1;32m<ipython-input-1-18625e7b794f>\u001b[0m in \u001b[0;36m<module>\u001b[1;34m\u001b[0m\n\u001b[1;32m----> 1\u001b[1;33m \u001b[1;32mfrom\u001b[0m \u001b[0mvpython\u001b[0m \u001b[1;32mimport\u001b[0m \u001b[1;33m*\u001b[0m\u001b[1;33m\u001b[0m\u001b[1;33m\u001b[0m\u001b[0m\n\u001b[0m\u001b[0;32m      2\u001b[0m \u001b[0mcanvas\u001b[0m\u001b[1;33m(\u001b[0m\u001b[1;33m)\u001b[0m\u001b[1;33m\u001b[0m\u001b[1;33m\u001b[0m\u001b[0m\n\u001b[0;32m      3\u001b[0m \u001b[0mc\u001b[0m \u001b[1;33m=\u001b[0m \u001b[1;36m1\u001b[0m \u001b[1;31m#see notes on scaling\u001b[0m\u001b[1;33m\u001b[0m\u001b[1;33m\u001b[0m\u001b[0m\n\u001b[0;32m      4\u001b[0m \u001b[1;33m\u001b[0m\u001b[0m\n\u001b[0;32m      5\u001b[0m \u001b[0mgraph\u001b[0m\u001b[1;33m(\u001b[0m\u001b[0mxtitle\u001b[0m\u001b[1;33m=\u001b[0m\u001b[1;34m\"time\"\u001b[0m\u001b[1;33m,\u001b[0m \u001b[0mytitle\u001b[0m\u001b[1;33m=\u001b[0m\u001b[1;34m\"position\"\u001b[0m\u001b[1;33m)\u001b[0m\u001b[1;33m\u001b[0m\u001b[1;33m\u001b[0m\u001b[0m\n",
      "\u001b[1;31mModuleNotFoundError\u001b[0m: No module named 'vpython'"
     ]
    }
   ],
   "source": [
    "from vpython import *\n",
    "canvas()\n",
    "c = 1 #see notes on scaling\n",
    "\n",
    "graph(xtitle=\"time\", ytitle=\"position\")\n",
    "pos_graph = gcurve(color=color.red,label=\"rel x\")\n",
    "nonrel_pos_graph = gcurve(color=color.green,label=\"nonrel x\")\n",
    "graph(xtitle=\"time\", ytitle=\"speed\")\n",
    "vel_graph = gcurve(color=color.red,label=\"rel v_x\")\n",
    "nonrel_vel_graph = gcurve(color=color.green,label=\"nonrel v_x\")"
   ]
  },
  {
   "cell_type": "markdown",
   "metadata": {},
   "source": [
    "I have had trouble when executing these instructions more than once. That is why I split the code into two parts--so we don't make new graphs every time we execute. You may need to select Kernel>Restart and Run All if you have problems."
   ]
  },
  {
   "cell_type": "code",
   "execution_count": 2,
   "metadata": {
    "scrolled": true
   },
   "outputs": [
    {
     "ename": "NameError",
     "evalue": "name 'sphere' is not defined",
     "output_type": "error",
     "traceback": [
      "\u001b[1;31m---------------------------------------------------------------------------\u001b[0m",
      "\u001b[1;31mNameError\u001b[0m                                 Traceback (most recent call last)",
      "\u001b[1;32m<ipython-input-2-0531062c08c7>\u001b[0m in \u001b[0;36m<module>\u001b[1;34m\u001b[0m\n\u001b[0;32m      4\u001b[0m \u001b[1;33m\u001b[0m\u001b[0m\n\u001b[0;32m      5\u001b[0m \u001b[1;31m#I'm just looking for an easy way to center the scene\u001b[0m\u001b[1;33m\u001b[0m\u001b[1;33m\u001b[0m\u001b[1;33m\u001b[0m\u001b[0m\n\u001b[1;32m----> 6\u001b[1;33m \u001b[0mearth\u001b[0m \u001b[1;33m=\u001b[0m \u001b[0msphere\u001b[0m\u001b[1;33m(\u001b[0m\u001b[0mradius\u001b[0m\u001b[1;33m=\u001b[0m\u001b[1;36m2\u001b[0m\u001b[1;33m*\u001b[0m\u001b[0mscaleDistance\u001b[0m\u001b[1;33m,\u001b[0m \u001b[0mpos\u001b[0m\u001b[1;33m=\u001b[0m\u001b[0mvector\u001b[0m\u001b[1;33m(\u001b[0m\u001b[1;33m-\u001b[0m\u001b[0mdestinationDistance\u001b[0m\u001b[1;33m/\u001b[0m\u001b[1;36m2\u001b[0m\u001b[1;33m,\u001b[0m\u001b[1;36m0\u001b[0m\u001b[1;33m,\u001b[0m\u001b[1;36m0\u001b[0m\u001b[1;33m)\u001b[0m\u001b[1;33m,\u001b[0m \u001b[0mcolor\u001b[0m\u001b[1;33m=\u001b[0m\u001b[0mcolor\u001b[0m\u001b[1;33m.\u001b[0m\u001b[0mblue\u001b[0m\u001b[1;33m)\u001b[0m\u001b[1;33m\u001b[0m\u001b[1;33m\u001b[0m\u001b[0m\n\u001b[0m\u001b[0;32m      7\u001b[0m \u001b[0malphaCentauri\u001b[0m \u001b[1;33m=\u001b[0m \u001b[0msphere\u001b[0m\u001b[1;33m(\u001b[0m\u001b[0mradius\u001b[0m\u001b[1;33m=\u001b[0m\u001b[1;36m2\u001b[0m\u001b[1;33m*\u001b[0m\u001b[0mscaleDistance\u001b[0m\u001b[1;33m,\u001b[0m \u001b[0mpos\u001b[0m\u001b[1;33m=\u001b[0m\u001b[0mvector\u001b[0m\u001b[1;33m(\u001b[0m\u001b[0mdestinationDistance\u001b[0m\u001b[1;33m/\u001b[0m\u001b[1;36m2\u001b[0m\u001b[1;33m,\u001b[0m\u001b[1;36m0\u001b[0m\u001b[1;33m,\u001b[0m\u001b[1;36m0\u001b[0m\u001b[1;33m)\u001b[0m\u001b[1;33m,\u001b[0m \u001b[0mcolor\u001b[0m\u001b[1;33m=\u001b[0m\u001b[0mcolor\u001b[0m\u001b[1;33m.\u001b[0m\u001b[0myellow\u001b[0m\u001b[1;33m)\u001b[0m\u001b[1;33m\u001b[0m\u001b[1;33m\u001b[0m\u001b[0m\n\u001b[0;32m      8\u001b[0m \u001b[1;33m\u001b[0m\u001b[0m\n",
      "\u001b[1;31mNameError\u001b[0m: name 'sphere' is not defined"
     ]
    }
   ],
   "source": [
    "destinationDistance = 4.367 # alpha centauri is 4.367 light years away\n",
    "#We need to make things large enough to see, so multiply sizes by scaleDistance\n",
    "scaleDistance = 1e-2*destinationDistance\n",
    "\n",
    "#I'm just looking for an easy way to center the scene\n",
    "earth = sphere(radius=2*scaleDistance, pos=vector(-destinationDistance/2,0,0), color=color.blue)\n",
    "alphaCentauri = sphere(radius=2*scaleDistance, pos=vector(destinationDistance/2,0,0), color=color.yellow)\n",
    "\n",
    "#relativistic craft\n",
    "rel = sphere( radius=0.5*scaleDistance, pos=earth.pos, color=color.red)\n",
    "rel.momentum = vector(0,0,0)\n",
    "rel.mass = 1.0\n",
    "\n",
    "# non-relativistic craft\n",
    "nonrel = sphere( radius=0.5*scaleDistance, pos=earth.pos, color=color.green)\n",
    "nonrel.momentum = vector(0,0,0)\n",
    "nonrel.mass = 1.0\n",
    "\n",
    "\n",
    "dt = 0.01\n",
    "time = 0\n",
    "while time < 5:\n",
    "    rate(50)\n",
    "    force = vector(0.5,0,0)\n",
    "\n",
    "    # Relativistic ECM.\n",
    "    rel.momentum = rel.momentum + force*dt\n",
    "    rel.rel_fac = 1.0 / sqrt(1.0+(mag(rel.momentum)**2/(rel.mass**2*c**2)))\n",
    "    rel.pos = rel.pos + rel.rel_fac*rel.momentum/rel.mass*dt\n",
    "    \n",
    "    # Add non-relativistic ECM here.\n",
    "    nonrel.momentum = nonrel.momentum + force*dt\n",
    "    nonrel.pos = nonrel.pos + nonrel.momentum/nonrel.mass*dt\n",
    "    \n",
    "    time = time + dt\n",
    "    pos_graph.plot(pos=(time,rel.pos.x))\n",
    "    nonrel_pos_graph.plot(pos=(time,nonrel.pos.x))\n",
    "    velocity = rel.momentum/rel.mass*rel.rel_fac\n",
    "    vel_graph.plot(pos=(time,velocity.x))\n",
    "    velocity = nonrel.momentum/nonrel.mass*nonrel.rel_fac\n",
    "    nonrel_vel_graph.plot(pos=(time,velocity.x))\n",
    "  "
   ]
  },
  {
   "cell_type": "markdown",
   "metadata": {},
   "source": [
    "## LO 2: Are we there yet?\n",
    "Discuss the following questions\n",
    "1. How much longer will it take to get to alpha centauri, compared to the incorrect classical result? Estimate the answer to the nearest 10th of a year by looking at the graphs.\n",
    "2. Does the discrepancy get larger or smaller as the force increases? Explain"
   ]
  },
  {
   "cell_type": "code",
   "execution_count": null,
   "metadata": {},
   "outputs": [],
   "source": [
    "#\n",
    "#The vpython module wouldn't load in Jupyter, so I used Glowscript:\n",
    "#https://www.glowscript.org/#/user/Waluigi/folder/Public/program/modernphysics1/edit\n",
    "#\n",
    "#1)    Nonrelativistic (classically calulated) time = 4.18 lightyears. Relativistic time = 6.04 lightyears.\n",
    "#      The Classical value is 1.86 lightyears less.\n",
    "#\n",
    "#2)    Larger; if we increase the force to 50000 netwons, classical model shows the object reaching Alpha Centauri almost instantly,\n",
    "#      while the relativistic model shows it getting there no faster than the speed of light."
   ]
  }
 ],
 "metadata": {
  "kernelspec": {
   "display_name": "Python 3",
   "language": "python",
   "name": "python3"
  },
  "language_info": {
   "codemirror_mode": {
    "name": "ipython",
    "version": 3
   },
   "file_extension": ".py",
   "mimetype": "text/x-python",
   "name": "python",
   "nbconvert_exporter": "python",
   "pygments_lexer": "ipython3",
   "version": "3.7.3"
  }
 },
 "nbformat": 4,
 "nbformat_minor": 4
}
