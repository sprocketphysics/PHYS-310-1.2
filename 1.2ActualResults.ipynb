{
 "cells": [
  {
   "cell_type": "code",
   "execution_count": 1,
   "metadata": {},
   "outputs": [
    {
     "data": {
      "text/html": [
       "<div id=\"glowscript\" class=\"glowscript\"></div>"
      ],
      "text/plain": [
       "<IPython.core.display.HTML object>"
      ]
     },
     "metadata": {},
     "output_type": "display_data"
    },
    {
     "data": {
      "application/javascript": [
       "if (typeof Jupyter !== \"undefined\") { window.__context = { glowscript_container: $(\"#glowscript\").removeAttr(\"id\")};}else{ element.textContent = ' ';}"
      ],
      "text/plain": [
       "<IPython.core.display.Javascript object>"
      ]
     },
     "metadata": {},
     "output_type": "display_data"
    },
    {
     "data": {
      "text/html": [
       "<div id=\"glowscript\" class=\"glowscript\"></div>"
      ],
      "text/plain": [
       "<IPython.core.display.HTML object>"
      ]
     },
     "metadata": {},
     "output_type": "display_data"
    },
    {
     "data": {
      "application/javascript": [
       "if (typeof Jupyter !== \"undefined\") { window.__context = { glowscript_container: $(\"#glowscript\").removeAttr(\"id\")};}else{ element.textContent = ' ';}"
      ],
      "text/plain": [
       "<IPython.core.display.Javascript object>"
      ]
     },
     "metadata": {},
     "output_type": "display_data"
    },
    {
     "data": {
      "application/javascript": [
       "if (typeof Jupyter !== \"undefined\") {require.undef(\"nbextensions/vpython_libraries/glow.min\");}else{element.textContent = ' ';}"
      ],
      "text/plain": [
       "<IPython.core.display.Javascript object>"
      ]
     },
     "metadata": {},
     "output_type": "display_data"
    },
    {
     "data": {
      "application/javascript": [
       "if (typeof Jupyter !== \"undefined\") {require.undef(\"nbextensions/vpython_libraries/glowcomm\");}else{element.textContent = ' ';}"
      ],
      "text/plain": [
       "<IPython.core.display.Javascript object>"
      ]
     },
     "metadata": {},
     "output_type": "display_data"
    },
    {
     "data": {
      "application/javascript": [
       "if (typeof Jupyter !== \"undefined\") {require.undef(\"nbextensions/vpython_libraries/jquery-ui.custom.min\");}else{element.textContent = ' ';}"
      ],
      "text/plain": [
       "<IPython.core.display.Javascript object>"
      ]
     },
     "metadata": {},
     "output_type": "display_data"
    },
    {
     "data": {
      "application/javascript": [
       "if (typeof Jupyter !== \"undefined\") {require([\"nbextensions/vpython_libraries/glow.min\"], function(){console.log(\"GLOW LOADED\");});}else{element.textContent = ' ';}"
      ],
      "text/plain": [
       "<IPython.core.display.Javascript object>"
      ]
     },
     "metadata": {},
     "output_type": "display_data"
    },
    {
     "data": {
      "application/javascript": [
       "if (typeof Jupyter !== \"undefined\") {require([\"nbextensions/vpython_libraries/glowcomm\"], function(){console.log(\"GLOWCOMM LOADED\");});}else{element.textContent = ' ';}"
      ],
      "text/plain": [
       "<IPython.core.display.Javascript object>"
      ]
     },
     "metadata": {},
     "output_type": "display_data"
    },
    {
     "data": {
      "application/javascript": [
       "if (typeof Jupyter !== \"undefined\") {require([\"nbextensions/vpython_libraries/jquery-ui.custom.min\"], function(){console.log(\"JQUERY LOADED\");});}else{element.textContent = ' ';}"
      ],
      "text/plain": [
       "<IPython.core.display.Javascript object>"
      ]
     },
     "metadata": {},
     "output_type": "display_data"
    }
   ],
   "source": [
    "from vpython import *\n",
    "canvas()\n",
    "c = 1 #see notes on scaling\n",
    "\n",
    "graph(xtitle=\"time\", ytitle=\"position\")\n",
    "pos_graph = gcurve(color=color.red,label=\"rel x\")\n",
    "nonrel_pos_graph = gcurve(color=color.green,label=\"nonrel x\")\n",
    "graph(xtitle=\"time\", ytitle=\"speed\")\n",
    "vel_graph = gcurve(color=color.red,label=\"rel v_x\")\n",
    "nonrel_vel_graph = gcurve(color=color.green,label=\"nonrel v_x\")"
   ]
  },
  {
   "cell_type": "code",
   "execution_count": 2,
   "metadata": {},
   "outputs": [],
   "source": [
    "destinationDistance = 4.367 # alpha centauri is 4.367 light years away\n",
    "#We need to make things large enough to see, so multiply sizes by scaleDistance\n",
    "scaleDistance = 1e-2*destinationDistance\n",
    "\n",
    "#I'm just looking for an easy way to center the scene\n",
    "earth = sphere(radius=2*scaleDistance, pos=vector(-destinationDistance/2,0,0), color=color.blue)\n",
    "alphaCentauri = sphere(radius=2*scaleDistance, pos=vector(destinationDistance/2,0,0), color=color.yellow)\n",
    "\n",
    "#relativistic craft\n",
    "rel = sphere( radius=0.5*scaleDistance, pos=earth.pos, color=color.red)\n",
    "rel.momentum = vector(0,0,0)\n",
    "rel.mass = 1.0\n",
    "\n",
    "# non-relativistic craft\n",
    "nonrel = sphere( radius=0.5*scaleDistance, pos=earth.pos, color=color.green)\n",
    "nonrel.momentum = vector(0,0,0)\n",
    "nonrel.mass = 1.0\n",
    "\n",
    "\n",
    "dt = 0.01\n",
    "time = 0\n",
    "while time < 10:\n",
    "    rate(50)\n",
    "    force = vector(0.5,0,0)\n",
    "\n",
    "    # Relativistic ECM.\n",
    "    rel.momentum = rel.momentum + force*dt\n",
    "    gamma = 1.0 / sqrt(1.0+(mag(rel.momentum)**2/(rel.mass**2*c**2)))\n",
    "    rel.pos = rel.pos + gamma*rel.momentum/rel.mass*dt\n",
    "    \n",
    "    # Add non-relativistic ECM here.\n",
    "    nonrel.momentum = nonrel.momentum + force*dt\n",
    "    nonrel.pos = nonrel.pos + nonrel.momentum/nonrel.mass*dt\n",
    "    \n",
    "    time = time + dt\n",
    "    pos_graph.plot(pos=(time,rel.pos.x))\n",
    "    nonrel_pos_graph.plot(pos=(time,nonrel.pos.x))\n",
    "    velocity = rel.momentum/rel.mass*gamma\n",
    "    vel_graph.plot(pos=(time,velocity.x))\n",
    "    velocity = nonrel.momentum/nonrel.mass\n",
    "    nonrel_vel_graph.plot(pos=(time,velocity.x))\n",
    "  "
   ]
  },
  {
   "cell_type": "code",
   "execution_count": null,
   "metadata": {},
   "outputs": [],
   "source": []
  }
 ],
 "metadata": {
  "kernelspec": {
   "display_name": "VPython",
   "language": "python",
   "name": "vpython"
  },
  "language_info": {
   "codemirror_mode": {
    "name": "ipython",
    "version": 3
   },
   "file_extension": ".py",
   "mimetype": "text/x-python",
   "name": "python",
   "nbconvert_exporter": "python",
   "pygments_lexer": "ipython3",
   "version": "3.7.3"
  }
 },
 "nbformat": 4,
 "nbformat_minor": 2
}
